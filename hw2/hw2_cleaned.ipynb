{
 "cells": [
  {
   "cell_type": "markdown",
   "metadata": {},
   "source": [
    "## Import Libraries and Read the CSV File"
   ]
  },
  {
   "cell_type": "code",
   "execution_count": 1,
   "metadata": {},
   "outputs": [],
   "source": [
    "import pandas as pd\n",
    "import numpy as np\n",
    "from datetime import datetime\n",
    "import matplotlib.pyplot as plt\n",
    "from scipy.special import erf\n",
    "import math\n",
    "import scipy.stats"
   ]
  },
  {
   "cell_type": "code",
   "execution_count": 2,
   "metadata": {},
   "outputs": [
    {
     "data": {
      "text/html": [
       "<div>\n",
       "<style scoped>\n",
       "    .dataframe tbody tr th:only-of-type {\n",
       "        vertical-align: middle;\n",
       "    }\n",
       "\n",
       "    .dataframe tbody tr th {\n",
       "        vertical-align: top;\n",
       "    }\n",
       "\n",
       "    .dataframe thead th {\n",
       "        text-align: right;\n",
       "    }\n",
       "</style>\n",
       "<table border=\"1\" class=\"dataframe\">\n",
       "  <thead>\n",
       "    <tr style=\"text-align: right;\">\n",
       "      <th></th>\n",
       "      <th>Date (yyyymmddhhmm)</th>\n",
       "      <th>CO2 (ppm)</th>\n",
       "    </tr>\n",
       "  </thead>\n",
       "  <tbody>\n",
       "    <tr>\n",
       "      <th>0</th>\n",
       "      <td>196908201755</td>\n",
       "      <td>323.17</td>\n",
       "    </tr>\n",
       "    <tr>\n",
       "      <th>1</th>\n",
       "      <td>196908201755</td>\n",
       "      <td>324.72</td>\n",
       "    </tr>\n",
       "    <tr>\n",
       "      <th>2</th>\n",
       "      <td>196908201830</td>\n",
       "      <td>331.02</td>\n",
       "    </tr>\n",
       "    <tr>\n",
       "      <th>3</th>\n",
       "      <td>196908201830</td>\n",
       "      <td>-999.99</td>\n",
       "    </tr>\n",
       "    <tr>\n",
       "      <th>4</th>\n",
       "      <td>196908271915</td>\n",
       "      <td>-999.99</td>\n",
       "    </tr>\n",
       "  </tbody>\n",
       "</table>\n",
       "</div>"
      ],
      "text/plain": [
       "   Date (yyyymmddhhmm)  CO2 (ppm)\n",
       "0         196908201755     323.17\n",
       "1         196908201755     324.72\n",
       "2         196908201830     331.02\n",
       "3         196908201830    -999.99\n",
       "4         196908271915    -999.99"
      ]
     },
     "execution_count": 2,
     "metadata": {},
     "output_type": "execute_result"
    }
   ],
   "source": [
    "df = pd.read_csv(\"CO2Concentration.csv\")\n",
    "df.head()"
   ]
  },
  {
   "cell_type": "code",
   "execution_count": 3,
   "metadata": {},
   "outputs": [
    {
     "data": {
      "text/plain": [
       "Date (yyyymmddhhmm)      int64\n",
       "CO2 (ppm)              float64\n",
       "dtype: object"
      ]
     },
     "execution_count": 3,
     "metadata": {},
     "output_type": "execute_result"
    }
   ],
   "source": [
    "# Check the datatypes\n",
    "df.dtypes"
   ]
  },
  {
   "cell_type": "code",
   "execution_count": 4,
   "metadata": {},
   "outputs": [],
   "source": [
    "# Convert object(Date) to datetime\n",
    "def convert_datetime(dt):\n",
    "    return datetime.strptime(str(int(dt)), \"%Y%m%d%H%M\")"
   ]
  },
  {
   "cell_type": "code",
   "execution_count": 5,
   "metadata": {},
   "outputs": [
    {
     "data": {
      "text/html": [
       "<div>\n",
       "<style scoped>\n",
       "    .dataframe tbody tr th:only-of-type {\n",
       "        vertical-align: middle;\n",
       "    }\n",
       "\n",
       "    .dataframe tbody tr th {\n",
       "        vertical-align: top;\n",
       "    }\n",
       "\n",
       "    .dataframe thead th {\n",
       "        text-align: right;\n",
       "    }\n",
       "</style>\n",
       "<table border=\"1\" class=\"dataframe\">\n",
       "  <thead>\n",
       "    <tr style=\"text-align: right;\">\n",
       "      <th></th>\n",
       "      <th>Date (yyyymmddhhmm)</th>\n",
       "      <th>CO2 (ppm)</th>\n",
       "      <th>Date</th>\n",
       "    </tr>\n",
       "  </thead>\n",
       "  <tbody>\n",
       "    <tr>\n",
       "      <th>0</th>\n",
       "      <td>196908201755</td>\n",
       "      <td>323.17</td>\n",
       "      <td>1969-08-20 17:55:00</td>\n",
       "    </tr>\n",
       "    <tr>\n",
       "      <th>1</th>\n",
       "      <td>196908201755</td>\n",
       "      <td>324.72</td>\n",
       "      <td>1969-08-20 17:55:00</td>\n",
       "    </tr>\n",
       "    <tr>\n",
       "      <th>2</th>\n",
       "      <td>196908201830</td>\n",
       "      <td>331.02</td>\n",
       "      <td>1969-08-20 18:30:00</td>\n",
       "    </tr>\n",
       "    <tr>\n",
       "      <th>3</th>\n",
       "      <td>196908201830</td>\n",
       "      <td>-999.99</td>\n",
       "      <td>1969-08-20 18:30:00</td>\n",
       "    </tr>\n",
       "    <tr>\n",
       "      <th>4</th>\n",
       "      <td>196908271915</td>\n",
       "      <td>-999.99</td>\n",
       "      <td>1969-08-27 19:15:00</td>\n",
       "    </tr>\n",
       "  </tbody>\n",
       "</table>\n",
       "</div>"
      ],
      "text/plain": [
       "   Date (yyyymmddhhmm)  CO2 (ppm)                Date\n",
       "0         196908201755     323.17 1969-08-20 17:55:00\n",
       "1         196908201755     324.72 1969-08-20 17:55:00\n",
       "2         196908201830     331.02 1969-08-20 18:30:00\n",
       "3         196908201830    -999.99 1969-08-20 18:30:00\n",
       "4         196908271915    -999.99 1969-08-27 19:15:00"
      ]
     },
     "execution_count": 5,
     "metadata": {},
     "output_type": "execute_result"
    }
   ],
   "source": [
    "df['Date'] = df['Date (yyyymmddhhmm)'].apply(convert_datetime)\n",
    "df.head()"
   ]
  },
  {
   "cell_type": "code",
   "execution_count": 6,
   "metadata": {},
   "outputs": [
    {
     "data": {
      "text/plain": [
       "array([1969, 1970, 1971, 1974, 1976, 1977, 1978, 1979, 1980, 1981, 1982,\n",
       "       1983, 1984, 1985, 1986, 1987, 1988, 1989, 1990, 1991, 1992, 1993,\n",
       "       1994, 1995, 1996, 1997, 1998, 1999, 2000, 2001, 2002, 2003, 2004,\n",
       "       2005, 2006, 2007, 2008, 2009, 2010, 2011, 2012, 2013, 2014, 2015,\n",
       "       2016, 2017, 2018, 2019], dtype=int64)"
      ]
     },
     "execution_count": 6,
     "metadata": {},
     "output_type": "execute_result"
    }
   ],
   "source": [
    "df.Date.dt.year.unique()"
   ]
  },
  {
   "cell_type": "code",
   "execution_count": 7,
   "metadata": {},
   "outputs": [],
   "source": [
    "is_1971 = df.Date.dt.year == 1971\n",
    "is_1986 = df.Date.dt.year == 1986\n",
    "is_2002 = df.Date.dt.year == 2002\n",
    "is_2019 = df.Date.dt.year == 2019"
   ]
  },
  {
   "cell_type": "code",
   "execution_count": 8,
   "metadata": {},
   "outputs": [],
   "source": [
    "df_1971 = df[is_1971]\n",
    "df_1986 = df[is_1986]\n",
    "df_2002 = df[is_2002]\n",
    "df_2019 = df[is_2019]"
   ]
  },
  {
   "cell_type": "markdown",
   "metadata": {},
   "source": [
    "## Checkout the Data of the year 1971"
   ]
  },
  {
   "cell_type": "code",
   "execution_count": 9,
   "metadata": {},
   "outputs": [
    {
     "data": {
      "text/html": [
       "<div>\n",
       "<style scoped>\n",
       "    .dataframe tbody tr th:only-of-type {\n",
       "        vertical-align: middle;\n",
       "    }\n",
       "\n",
       "    .dataframe tbody tr th {\n",
       "        vertical-align: top;\n",
       "    }\n",
       "\n",
       "    .dataframe thead th {\n",
       "        text-align: right;\n",
       "    }\n",
       "</style>\n",
       "<table border=\"1\" class=\"dataframe\">\n",
       "  <thead>\n",
       "    <tr style=\"text-align: right;\">\n",
       "      <th></th>\n",
       "      <th>Date (yyyymmddhhmm)</th>\n",
       "      <th>CO2 (ppm)</th>\n",
       "      <th>Date</th>\n",
       "    </tr>\n",
       "  </thead>\n",
       "  <tbody>\n",
       "    <tr>\n",
       "      <th>121</th>\n",
       "      <td>197108032030</td>\n",
       "      <td>326.49</td>\n",
       "      <td>1971-08-03 20:30:00</td>\n",
       "    </tr>\n",
       "    <tr>\n",
       "      <th>122</th>\n",
       "      <td>197108032030</td>\n",
       "      <td>325.91</td>\n",
       "      <td>1971-08-03 20:30:00</td>\n",
       "    </tr>\n",
       "    <tr>\n",
       "      <th>123</th>\n",
       "      <td>197108032230</td>\n",
       "      <td>325.37</td>\n",
       "      <td>1971-08-03 22:30:00</td>\n",
       "    </tr>\n",
       "    <tr>\n",
       "      <th>124</th>\n",
       "      <td>197108032230</td>\n",
       "      <td>325.99</td>\n",
       "      <td>1971-08-03 22:30:00</td>\n",
       "    </tr>\n",
       "    <tr>\n",
       "      <th>125</th>\n",
       "      <td>197108040030</td>\n",
       "      <td>325.42</td>\n",
       "      <td>1971-08-04 00:30:00</td>\n",
       "    </tr>\n",
       "    <tr>\n",
       "      <th>126</th>\n",
       "      <td>197108040030</td>\n",
       "      <td>325.09</td>\n",
       "      <td>1971-08-04 00:30:00</td>\n",
       "    </tr>\n",
       "    <tr>\n",
       "      <th>127</th>\n",
       "      <td>197108040220</td>\n",
       "      <td>325.57</td>\n",
       "      <td>1971-08-04 02:20:00</td>\n",
       "    </tr>\n",
       "    <tr>\n",
       "      <th>128</th>\n",
       "      <td>197108040220</td>\n",
       "      <td>325.48</td>\n",
       "      <td>1971-08-04 02:20:00</td>\n",
       "    </tr>\n",
       "    <tr>\n",
       "      <th>129</th>\n",
       "      <td>197108040430</td>\n",
       "      <td>325.34</td>\n",
       "      <td>1971-08-04 04:30:00</td>\n",
       "    </tr>\n",
       "    <tr>\n",
       "      <th>130</th>\n",
       "      <td>197108040430</td>\n",
       "      <td>325.41</td>\n",
       "      <td>1971-08-04 04:30:00</td>\n",
       "    </tr>\n",
       "    <tr>\n",
       "      <th>131</th>\n",
       "      <td>197108040630</td>\n",
       "      <td>325.61</td>\n",
       "      <td>1971-08-04 06:30:00</td>\n",
       "    </tr>\n",
       "    <tr>\n",
       "      <th>132</th>\n",
       "      <td>197108040630</td>\n",
       "      <td>325.53</td>\n",
       "      <td>1971-08-04 06:30:00</td>\n",
       "    </tr>\n",
       "    <tr>\n",
       "      <th>133</th>\n",
       "      <td>197108040830</td>\n",
       "      <td>328.00</td>\n",
       "      <td>1971-08-04 08:30:00</td>\n",
       "    </tr>\n",
       "    <tr>\n",
       "      <th>134</th>\n",
       "      <td>197108040830</td>\n",
       "      <td>324.91</td>\n",
       "      <td>1971-08-04 08:30:00</td>\n",
       "    </tr>\n",
       "    <tr>\n",
       "      <th>135</th>\n",
       "      <td>197108041030</td>\n",
       "      <td>326.72</td>\n",
       "      <td>1971-08-04 10:30:00</td>\n",
       "    </tr>\n",
       "    <tr>\n",
       "      <th>136</th>\n",
       "      <td>197108041030</td>\n",
       "      <td>325.61</td>\n",
       "      <td>1971-08-04 10:30:00</td>\n",
       "    </tr>\n",
       "    <tr>\n",
       "      <th>137</th>\n",
       "      <td>197108041230</td>\n",
       "      <td>325.32</td>\n",
       "      <td>1971-08-04 12:30:00</td>\n",
       "    </tr>\n",
       "    <tr>\n",
       "      <th>138</th>\n",
       "      <td>197108041230</td>\n",
       "      <td>324.81</td>\n",
       "      <td>1971-08-04 12:30:00</td>\n",
       "    </tr>\n",
       "    <tr>\n",
       "      <th>139</th>\n",
       "      <td>197108041430</td>\n",
       "      <td>324.99</td>\n",
       "      <td>1971-08-04 14:30:00</td>\n",
       "    </tr>\n",
       "    <tr>\n",
       "      <th>140</th>\n",
       "      <td>197108041430</td>\n",
       "      <td>325.23</td>\n",
       "      <td>1971-08-04 14:30:00</td>\n",
       "    </tr>\n",
       "    <tr>\n",
       "      <th>141</th>\n",
       "      <td>197108041630</td>\n",
       "      <td>325.00</td>\n",
       "      <td>1971-08-04 16:30:00</td>\n",
       "    </tr>\n",
       "    <tr>\n",
       "      <th>142</th>\n",
       "      <td>197108041630</td>\n",
       "      <td>324.86</td>\n",
       "      <td>1971-08-04 16:30:00</td>\n",
       "    </tr>\n",
       "    <tr>\n",
       "      <th>143</th>\n",
       "      <td>197108041830</td>\n",
       "      <td>325.47</td>\n",
       "      <td>1971-08-04 18:30:00</td>\n",
       "    </tr>\n",
       "    <tr>\n",
       "      <th>144</th>\n",
       "      <td>197108041830</td>\n",
       "      <td>325.34</td>\n",
       "      <td>1971-08-04 18:30:00</td>\n",
       "    </tr>\n",
       "  </tbody>\n",
       "</table>\n",
       "</div>"
      ],
      "text/plain": [
       "     Date (yyyymmddhhmm)  CO2 (ppm)                Date\n",
       "121         197108032030     326.49 1971-08-03 20:30:00\n",
       "122         197108032030     325.91 1971-08-03 20:30:00\n",
       "123         197108032230     325.37 1971-08-03 22:30:00\n",
       "124         197108032230     325.99 1971-08-03 22:30:00\n",
       "125         197108040030     325.42 1971-08-04 00:30:00\n",
       "126         197108040030     325.09 1971-08-04 00:30:00\n",
       "127         197108040220     325.57 1971-08-04 02:20:00\n",
       "128         197108040220     325.48 1971-08-04 02:20:00\n",
       "129         197108040430     325.34 1971-08-04 04:30:00\n",
       "130         197108040430     325.41 1971-08-04 04:30:00\n",
       "131         197108040630     325.61 1971-08-04 06:30:00\n",
       "132         197108040630     325.53 1971-08-04 06:30:00\n",
       "133         197108040830     328.00 1971-08-04 08:30:00\n",
       "134         197108040830     324.91 1971-08-04 08:30:00\n",
       "135         197108041030     326.72 1971-08-04 10:30:00\n",
       "136         197108041030     325.61 1971-08-04 10:30:00\n",
       "137         197108041230     325.32 1971-08-04 12:30:00\n",
       "138         197108041230     324.81 1971-08-04 12:30:00\n",
       "139         197108041430     324.99 1971-08-04 14:30:00\n",
       "140         197108041430     325.23 1971-08-04 14:30:00\n",
       "141         197108041630     325.00 1971-08-04 16:30:00\n",
       "142         197108041630     324.86 1971-08-04 16:30:00\n",
       "143         197108041830     325.47 1971-08-04 18:30:00\n",
       "144         197108041830     325.34 1971-08-04 18:30:00"
      ]
     },
     "execution_count": 9,
     "metadata": {},
     "output_type": "execute_result"
    }
   ],
   "source": [
    "df_1971"
   ]
  },
  {
   "cell_type": "code",
   "execution_count": 10,
   "metadata": {},
   "outputs": [
    {
     "name": "stdout",
     "output_type": "stream",
     "text": [
      "324.81 328.0 325.56125 0.6968208084797965\n"
     ]
    }
   ],
   "source": [
    "min_1971 = df_1971['CO2 (ppm)'].min()\n",
    "max_1971 = df_1971['CO2 (ppm)'].max()\n",
    "mean_1971 = df_1971['CO2 (ppm)'].mean()\n",
    "std_1971 = df_1971['CO2 (ppm)'].std()\n",
    "print(min_1971, max_1971, mean_1971, std_1971)"
   ]
  },
  {
   "cell_type": "markdown",
   "metadata": {},
   "source": [
    "## To draw histogram"
   ]
  },
  {
   "cell_type": "code",
   "execution_count": 28,
   "metadata": {},
   "outputs": [],
   "source": [
    "def draw_histogram(df: pd.DataFrame, column_name: str, x_steps: int, year:int):\n",
    "    # exclude outliers based on the 6 sigma rule\n",
    "    std_temp = df[column_name].std()\n",
    "    mean_temp = df[column_name].mean()\n",
    "    lower_limit = df[column_name] > mean_temp - 3 * std_temp\n",
    "    upper_limit = df[column_name] < mean_temp + 3 * std_temp\n",
    "    df = df[lower_limit & upper_limit]\n",
    "    \n",
    "    # calculate statistics of the new dataframe\n",
    "    min_val = df[column_name].min()\n",
    "    max_val = df[column_name].max()\n",
    "    std_val = df[column_name].std()\n",
    "    mean_val = df[column_name].mean()\n",
    "    \n",
    "    # print the values\n",
    "    print(\"Mean:\", round(mean_temp, 5))\n",
    "    print(\"Std.:\", round(std_temp, 5))\n",
    "    print(\"Mean (After excluding outliers):\", round(mean_val, 5))\n",
    "    print(\"Std. (After excluding outliers):\", round(std_val, 5))\n",
    "    \n",
    "    # Draw histogram\n",
    "    x_list = []\n",
    "    step = (max_val - min_val) / x_steps\n",
    "    for i in range(0, x_steps + 5):\n",
    "        x_list.append(min_val + (i - 5) * step)\n",
    "    \n",
    "    # Probability Density Function 1: normal distribution graph\n",
    "    x = np.linspace(min_val - 5 * step, max_val + 5 * step, 1000)\n",
    "    y = (1 / (np.sqrt(2 * np.pi) * std_val)) * np.exp(-(x-mean_val)**2 / (2 * std_val**2))\n",
    "    \n",
    "    # Probability Density Function 2: Maximum Likelihood Estimation\n",
    "    x_fit = df[column_name]\n",
    "    loc, scale = scipy.stats.norm.fit(x_fit)\n",
    "    y_fit = (1 / (np.sqrt(2 * np.pi) * scale)) * np.exp(-(x-loc)**2 / (2 * scale**2))\n",
    "    \n",
    "#     # get Maximum Likelihood Estimation value\n",
    "#     estimator = MLE(df[column_name], mean_val, std_val, learning_rate=0.1, epochs=1000, verbose=True)\n",
    "#     estimator.fit()\n",
    "#     result = estimator.get_mle()\n",
    "#     print(\"Result MLE:\", result)\n",
    "#     y_mle = (1 / (np.sqrt(2 * np.pi) * std_val)) * np.exp(-(x-result)**2 / (2 * std_val**2))\n",
    "    \n",
    "    norm_label = \"PDF1 N(\" + str(round(mean_temp, 2)) + \", \" + str(round(std_val, 2)) + \")\"\n",
    "    fit_label = \"PDF2 N(\" + str(round(loc, 2)) + \", \" + str(round(scale, 2)) + \")\"\n",
    "    title = \"CO2 emission of the year \" + str(year)\n",
    "    plt.hist(df[column_name], x_list, density = True, label = 'Histogram')\n",
    "    plt.plot(x, y, alpha=0.7, label=norm_label, linewidth = 4)\n",
    "    plt.plot(x, y_fit, alpha=0.7, label=fit_label, color = 'black')\n",
    "    plt.title(title)\n",
    "    plt.xlabel('CO2 (ppm)')\n",
    "    plt.ylabel('Number of Data or f(x)')\n",
    "    plt.legend(loc = 'upper left')\n",
    "    plt.show()\n",
    "    return df"
   ]
  },
  {
   "cell_type": "code",
   "execution_count": 30,
   "metadata": {},
   "outputs": [
    {
     "name": "stdout",
     "output_type": "stream",
     "text": [
      "Mean: 325.56125\n",
      "Std.: 0.69682\n",
      "Mean (After excluding outliers): 325.45522\n",
      "Std. (After excluding outliers): 0.47491\n"
     ]
    },
    {
     "data": {
      "image/png": "[encoded data removed]",
      "text/plain": [
       "<Figure size 432x288 with 1 Axes>"
      ]
     },
     "metadata": {
      "needs_background": "light"
     },
     "output_type": "display_data"
    }
   ],
   "source": [
    "df_1971_prcd = draw_histogram(df_1971, 'CO2 (ppm)', 30, 1971)"
   ]
  },
  {
   "cell_type": "code",
   "execution_count": 31,
   "metadata": {},
   "outputs": [
    {
     "name": "stdout",
     "output_type": "stream",
     "text": [
      "Mean: 342.92216\n",
      "Std.: 73.29121\n",
      "Mean (After excluding outliers): 346.90706\n",
      "Std. (After excluding outliers): 2.08816\n"
     ]
    },
    {
     "data": {
      "image/png": "[encoded data removed]",
      "text/plain": [
       "<Figure size 432x288 with 1 Axes>"
      ]
     },
     "metadata": {
      "needs_background": "light"
     },
     "output_type": "display_data"
    },
    {
     "data": {
      "text/html": [
       "<div>\n",
       "<style scoped>\n",
       "    .dataframe tbody tr th:only-of-type {\n",
       "        vertical-align: middle;\n",
       "    }\n",
       "\n",
       "    .dataframe tbody tr th {\n",
       "        vertical-align: top;\n",
       "    }\n",
       "\n",
       "    .dataframe thead th {\n",
       "        text-align: right;\n",
       "    }\n",
       "</style>\n",
       "<table border=\"1\" class=\"dataframe\">\n",
       "  <thead>\n",
       "    <tr style=\"text-align: right;\">\n",
       "      <th></th>\n",
       "      <th>Date (yyyymmddhhmm)</th>\n",
       "      <th>CO2 (ppm)</th>\n",
       "      <th>Date</th>\n",
       "    </tr>\n",
       "  </thead>\n",
       "  <tbody>\n",
       "    <tr>\n",
       "      <th>2162</th>\n",
       "      <td>198601032038</td>\n",
       "      <td>346.210</td>\n",
       "      <td>1986-01-03 20:38:00</td>\n",
       "    </tr>\n",
       "    <tr>\n",
       "      <th>2163</th>\n",
       "      <td>198601032038</td>\n",
       "      <td>346.460</td>\n",
       "      <td>1986-01-03 20:38:00</td>\n",
       "    </tr>\n",
       "    <tr>\n",
       "      <th>2164</th>\n",
       "      <td>198601032040</td>\n",
       "      <td>346.380</td>\n",
       "      <td>1986-01-03 20:40:00</td>\n",
       "    </tr>\n",
       "    <tr>\n",
       "      <th>2165</th>\n",
       "      <td>198601032040</td>\n",
       "      <td>346.200</td>\n",
       "      <td>1986-01-03 20:40:00</td>\n",
       "    </tr>\n",
       "    <tr>\n",
       "      <th>2166</th>\n",
       "      <td>198601032042</td>\n",
       "      <td>346.327</td>\n",
       "      <td>1986-01-03 20:42:00</td>\n",
       "    </tr>\n",
       "    <tr>\n",
       "      <th>...</th>\n",
       "      <td>...</td>\n",
       "      <td>...</td>\n",
       "      <td>...</td>\n",
       "    </tr>\n",
       "    <tr>\n",
       "      <th>2495</th>\n",
       "      <td>198612312020</td>\n",
       "      <td>334.150</td>\n",
       "      <td>1986-12-31 20:20:00</td>\n",
       "    </tr>\n",
       "    <tr>\n",
       "      <th>2496</th>\n",
       "      <td>198612312045</td>\n",
       "      <td>347.320</td>\n",
       "      <td>1986-12-31 20:45:00</td>\n",
       "    </tr>\n",
       "    <tr>\n",
       "      <th>2497</th>\n",
       "      <td>198612312045</td>\n",
       "      <td>347.230</td>\n",
       "      <td>1986-12-31 20:45:00</td>\n",
       "    </tr>\n",
       "    <tr>\n",
       "      <th>2498</th>\n",
       "      <td>198612312047</td>\n",
       "      <td>346.930</td>\n",
       "      <td>1986-12-31 20:47:00</td>\n",
       "    </tr>\n",
       "    <tr>\n",
       "      <th>2499</th>\n",
       "      <td>198612312047</td>\n",
       "      <td>346.940</td>\n",
       "      <td>1986-12-31 20:47:00</td>\n",
       "    </tr>\n",
       "  </tbody>\n",
       "</table>\n",
       "<p>337 rows × 3 columns</p>\n",
       "</div>"
      ],
      "text/plain": [
       "      Date (yyyymmddhhmm)  CO2 (ppm)                Date\n",
       "2162         198601032038    346.210 1986-01-03 20:38:00\n",
       "2163         198601032038    346.460 1986-01-03 20:38:00\n",
       "2164         198601032040    346.380 1986-01-03 20:40:00\n",
       "2165         198601032040    346.200 1986-01-03 20:40:00\n",
       "2166         198601032042    346.327 1986-01-03 20:42:00\n",
       "...                   ...        ...                 ...\n",
       "2495         198612312020    334.150 1986-12-31 20:20:00\n",
       "2496         198612312045    347.320 1986-12-31 20:45:00\n",
       "2497         198612312045    347.230 1986-12-31 20:45:00\n",
       "2498         198612312047    346.930 1986-12-31 20:47:00\n",
       "2499         198612312047    346.940 1986-12-31 20:47:00\n",
       "\n",
       "[337 rows x 3 columns]"
      ]
     },
     "execution_count": 31,
     "metadata": {},
     "output_type": "execute_result"
    }
   ],
   "source": [
    "draw_histogram(df_1986, 'CO2 (ppm)', 30, 1986)"
   ]
  },
  {
   "cell_type": "code",
   "execution_count": 32,
   "metadata": {},
   "outputs": [
    {
     "name": "stdout",
     "output_type": "stream",
     "text": [
      "Mean: 373.32936\n",
      "Std.: 1.86549\n",
      "Mean (After excluding outliers): 373.32936\n",
      "Std. (After excluding outliers): 1.86549\n"
     ]
    },
    {
     "data": {
      "image/png": "[encoded data removed]",
      "text/plain": [
       "<Figure size 432x288 with 1 Axes>"
      ]
     },
     "metadata": {
      "needs_background": "light"
     },
     "output_type": "display_data"
    }
   ],
   "source": [
    "df_2002_prcd = draw_histogram(df_2002, 'CO2 (ppm)', 30, 2002)"
   ]
  },
  {
   "cell_type": "code",
   "execution_count": 33,
   "metadata": {},
   "outputs": [
    {
     "name": "stdout",
     "output_type": "stream",
     "text": [
      "Mean: 412.04783\n",
      "Std.: 4.8127\n",
      "Mean (After excluding outliers): 411.74919\n",
      "Std. (After excluding outliers): 2.06773\n"
     ]
    },
    {
     "data": {
      "image/png": "[encoded data removed]",
      "text/plain": [
       "<Figure size 432x288 with 1 Axes>"
      ]
     },
     "metadata": {
      "needs_background": "light"
     },
     "output_type": "display_data"
    }
   ],
   "source": [
    "df_2019_prcd = draw_histogram(df_2019, 'CO2 (ppm)', 30, 2019)"
   ]
  },
  {
   "cell_type": "code",
   "execution_count": 34,
   "metadata": {},
   "outputs": [],
   "source": [
    "def draw_histogram_1986(df: pd.DataFrame, column_name: str, x_steps: int, year:int):\n",
    "    # exclude outliers based on the 6 sigma rule\n",
    "    std_temp = df[column_name].std()\n",
    "    mean_temp = df[column_name].mean()\n",
    "    lower_limit = df[column_name] > 334.15\n",
    "    upper_limit = df[column_name] < mean_temp + 3 * std_temp\n",
    "    df = df[lower_limit & upper_limit]\n",
    "    \n",
    "    # calculate statistics of the new dataframe\n",
    "    min_val = df[column_name].min()\n",
    "    max_val = df[column_name].max()\n",
    "    std_val = df[column_name].std()\n",
    "    mean_val = df[column_name].mean()\n",
    "    \n",
    "    # print the values\n",
    "    print(\"Mean:\", round(mean_temp, 5))\n",
    "    print(\"Std.:\", round(std_temp, 5))\n",
    "    print(\"Mean (After excluding outliers):\", round(mean_val, 5))\n",
    "    print(\"Std. (After excluding outliers):\", round(std_val, 5))\n",
    "    \n",
    "    # Draw histogram\n",
    "    x_list = []\n",
    "    step = (max_val - min_val) / x_steps\n",
    "    for i in range(0, x_steps + 5):\n",
    "        x_list.append(min_val + (i - 5) * step)\n",
    "    \n",
    "    # Probability Density Function 1: normal distribution graph\n",
    "    x = np.linspace(min_val - 5 * step, max_val + 5 * step, 1000)\n",
    "    y = (1 / (np.sqrt(2 * np.pi) * std_val)) * np.exp(-(x-mean_val)**2 / (2 * std_val**2))\n",
    "    \n",
    "    # Probability Density Function 2: Maximum Likelihood Estimation\n",
    "    x_fit = df[column_name]\n",
    "    loc, scale = scipy.stats.norm.fit(x_fit)\n",
    "    y_fit = (1 / (np.sqrt(2 * np.pi) * scale)) * np.exp(-(x-loc)**2 / (2 * scale**2))\n",
    "    \n",
    "#     # get Maximum Likelihood Estimation value\n",
    "#     estimator = MLE(df[column_name], mean_val, std_val, learning_rate=0.1, epochs=1000, verbose=True)\n",
    "#     estimator.fit()\n",
    "#     result = estimator.get_mle()\n",
    "#     print(\"Result MLE:\", result)\n",
    "#     y_mle = (1 / (np.sqrt(2 * np.pi) * std_val)) * np.exp(-(x-result)**2 / (2 * std_val**2))\n",
    "    \n",
    "    norm_label = \"PDF1 N(\" + str(round(mean_temp, 2)) + \", \" + str(round(std_val, 2)) + \")\"\n",
    "    fit_label = \"PDF2 N(\" + str(round(loc, 2)) + \", \" + str(round(scale, 2)) + \")\"\n",
    "    title = \"CO2 emission of the year \" + str(year)\n",
    "    plt.hist(df[column_name], x_list, density = True, label = 'Histogram')\n",
    "    plt.plot(x, y, alpha=0.7, label=norm_label, linewidth = 4)\n",
    "    plt.plot(x, y_fit, alpha=0.7, label=fit_label, color = 'black')\n",
    "    plt.title(title)\n",
    "    plt.xlabel('CO2 (ppm)')\n",
    "    plt.ylabel('Number of Data or f(x)')\n",
    "    plt.legend(loc = 'upper left')\n",
    "    plt.show()\n",
    "    return df"
   ]
  },
  {
   "cell_type": "code",
   "execution_count": 36,
   "metadata": {},
   "outputs": [
    {
     "name": "stdout",
     "output_type": "stream",
     "text": [
      "Mean: 342.92216\n",
      "Std.: 73.29121\n",
      "Mean (After excluding outliers): 346.94503\n",
      "Std. (After excluding outliers): 1.97134\n"
     ]
    },
    {
     "data": {
      "image/png": "[encoded data removed]",
      "text/plain": [
       "<Figure size 432x288 with 1 Axes>"
      ]
     },
     "metadata": {
      "needs_background": "light"
     },
     "output_type": "display_data"
    }
   ],
   "source": [
    "df_1986_prcd = draw_histogram_1986(df_1986, 'CO2 (ppm)', 30, 1986)"
   ]
  },
  {
   "cell_type": "code",
   "execution_count": null,
   "metadata": {},
   "outputs": [],
   "source": [
    "# # https://yamalab.tistory.com/94\n",
    "\n",
    "# import math\n",
    "# import scipy.stats\n",
    "\n",
    "# class MLE():\n",
    "#     def __init__(self, samples, m, std, learning_rate, epochs, verbose=False):\n",
    "#         \"\"\"\n",
    "#         :param samples: samples for get Maximum Likelihood Estimator\n",
    "#         :param learning_rate: alpha on weight update\n",
    "#         :param epochs: training epochs\n",
    "#         :param verbose: print status\n",
    "#         \"\"\"\n",
    "#         self._samples = samples\n",
    "#         self._m = m\n",
    "#         self._std = std\n",
    "#         self._learning_rate = learning_rate\n",
    "#         self._epochs = epochs\n",
    "#         self._verbose = verbose\n",
    "#         self._pdf = scipy.stats.norm(m, std)\n",
    "\n",
    "#     def likelihood(self, x, M):\n",
    "#         \"\"\"\n",
    "#         Let the shape of the Probability Density Function is Normal distribution.\n",
    "#         PDF's y is same as likelihood\n",
    "\n",
    "#         [inputs]\n",
    "#           x: x value to get the likelihood\n",
    "#           return: likelihood of input x\n",
    "#         \"\"\"\n",
    "#         return self._pdf.pdf(x)\n",
    "#         # return (1 / math.sqrt(2*math.pi) * math.pow(self._std, 2)) * np.exp(-(np.power(x - M, 2) / (2*math.pow(self._std, 2))))\n",
    "\n",
    "\n",
    "#     def fit(self):\n",
    "#         \"\"\"\n",
    "#         training estimator\n",
    "#         M, which minimizes Likelihood, is obtained by the gradient descent method.\n",
    "#         M is the MLE of the samples\n",
    "#         \"\"\"\n",
    "\n",
    "#         # init M\n",
    "#         self._estimator = np.random.normal(self._m, self._std, 1)\n",
    "\n",
    "#         # train while epochs\n",
    "#         self._training_process = []\n",
    "#         for epoch in range(self._epochs):\n",
    "#             likelihood = np.prod(self.likelihood(self._samples, self._m))\n",
    "#             prediction = np.prod(self.likelihood(self._samples, self._estimator))\n",
    "#             cost = self.cost(likelihood, prediction)\n",
    "#             self._training_process.append((epoch, cost))\n",
    "#             self.update(self._samples, self._estimator)\n",
    "\n",
    "#             # print status\n",
    "#             if self._verbose == True and ((epoch + 1) % 10 == 0):\n",
    "#                 print(\"Iteration: %d ; cost = %.4f\" % (epoch + 1, cost))\n",
    "\n",
    "\n",
    "#     def cost(self, likelihood, prediction):\n",
    "#         \"\"\"\n",
    "#         cost function\n",
    "#         :param likelihood: likelihood of population\n",
    "#         :param prediction: likelihood in samples\n",
    "#         :return: the cost of optimizing the parameters\n",
    "#         \"\"\"\n",
    "#         return math.sqrt(likelihood - prediction)\n",
    "\n",
    "\n",
    "#     def update(self, x, M):\n",
    "#         \"\"\"\n",
    "#         update in gradient descent\n",
    "#         gradient is approximated\n",
    "#         :param x: samples\n",
    "#         :param M: estimator\n",
    "#         \"\"\"\n",
    "#         gradient = np.sum(np.exp(-(np.power(x - M, 2) / (2*math.pow(self._std, 2)))))\n",
    "#         if self._m > self._estimator:\n",
    "#             self._estimator += self._learning_rate * gradient\n",
    "#         else:\n",
    "#             self._estimator -= self._learning_rate * gradient\n",
    "\n",
    "\n",
    "#     def get_mle(self):\n",
    "#         \"\"\"\n",
    "#         parameter getter\n",
    "#         :return: estimator of MLE\n",
    "#         \"\"\"\n",
    "#         return self._estimator\n",
    "\n",
    "\n",
    "# # # run example\n",
    "# # if __name__ == \"__main__\":\n",
    "\n",
    "# #     # samples for MLE\n",
    "# #     samples = df_1986_prcd['CO2 (ppm)']\n",
    "\n",
    "# #     # assumptions about the population\n",
    "# #     mean = df_1986_prcd['CO2 (ppm)'].mean()\n",
    "# #     std = df_1986_prcd['CO2 (ppm)'].std()\n",
    "\n",
    "# #     # get MLE\n",
    "# #     estimator = MLE(samples, mean, std, learning_rate=0.1, epochs=100, verbose=True)\n",
    "# #     estimator.fit()\n",
    "# #     result = estimator.get_mle()\n",
    "# #     print(result)"
   ]
  }
 ],
 "metadata": {
  "kernelspec": {
   "display_name": "Python 3",
   "language": "python",
   "name": "python3"
  },
  "language_info": {
   "codemirror_mode": {
    "name": "ipython",
    "version": 3
   },
   "file_extension": ".py",
   "mimetype": "text/x-python",
   "name": "python",
   "nbconvert_exporter": "python",
   "pygments_lexer": "ipython3",
   "version": "3.8.5"
  }
 },
 "nbformat": 4,
 "nbformat_minor": 4
}
