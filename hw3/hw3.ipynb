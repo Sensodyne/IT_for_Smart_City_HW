{
 "cells": [
  {
   "cell_type": "markdown",
   "metadata": {},
   "source": [
    "## Import Libraries and Read the CSV File"
   ]
  },
  {
   "cell_type": "code",
   "execution_count": 1,
   "metadata": {},
   "outputs": [],
   "source": [
    "import pandas as pd\n",
    "import numpy as np"
   ]
  },
  {
   "cell_type": "code",
   "execution_count": 10,
   "metadata": {},
   "outputs": [
    {
     "data": {
      "text/html": [
       "<div>\n",
       "<style scoped>\n",
       "    .dataframe tbody tr th:only-of-type {\n",
       "        vertical-align: middle;\n",
       "    }\n",
       "\n",
       "    .dataframe tbody tr th {\n",
       "        vertical-align: top;\n",
       "    }\n",
       "\n",
       "    .dataframe thead th {\n",
       "        text-align: right;\n",
       "    }\n",
       "</style>\n",
       "<table border=\"1\" class=\"dataframe\">\n",
       "  <thead>\n",
       "    <tr style=\"text-align: right;\">\n",
       "      <th></th>\n",
       "      <th>TRIP_ID</th>\n",
       "      <th>CALL_TYPE</th>\n",
       "      <th>ORIGIN_CALL</th>\n",
       "      <th>ORIGIN_STAND</th>\n",
       "      <th>TAXI_ID</th>\n",
       "      <th>TIMESTAMP</th>\n",
       "      <th>DAY_TYPE</th>\n",
       "      <th>MISSING_DATA</th>\n",
       "      <th>POLYLINE</th>\n",
       "    </tr>\n",
       "  </thead>\n",
       "  <tbody>\n",
       "    <tr>\n",
       "      <th>0</th>\n",
       "      <td>1.372640e+18</td>\n",
       "      <td>C</td>\n",
       "      <td>NaN</td>\n",
       "      <td>NaN</td>\n",
       "      <td>20000589</td>\n",
       "      <td>1372636858</td>\n",
       "      <td>A</td>\n",
       "      <td>False</td>\n",
       "      <td>[[-8.618643, 41.141412], [-8.618499, 41.141376...</td>\n",
       "    </tr>\n",
       "    <tr>\n",
       "      <th>1</th>\n",
       "      <td>1.372640e+18</td>\n",
       "      <td>B</td>\n",
       "      <td>NaN</td>\n",
       "      <td>7.0</td>\n",
       "      <td>20000596</td>\n",
       "      <td>1372637303</td>\n",
       "      <td>A</td>\n",
       "      <td>False</td>\n",
       "      <td>[[-8.639847, 41.159825999999995], [-8.64035099...</td>\n",
       "    </tr>\n",
       "    <tr>\n",
       "      <th>2</th>\n",
       "      <td>1.372640e+18</td>\n",
       "      <td>C</td>\n",
       "      <td>NaN</td>\n",
       "      <td>NaN</td>\n",
       "      <td>20000320</td>\n",
       "      <td>1372636951</td>\n",
       "      <td>A</td>\n",
       "      <td>False</td>\n",
       "      <td>[[-8.612964, 41.140359000000004], [-8.613378, ...</td>\n",
       "    </tr>\n",
       "    <tr>\n",
       "      <th>3</th>\n",
       "      <td>1.372640e+18</td>\n",
       "      <td>C</td>\n",
       "      <td>NaN</td>\n",
       "      <td>NaN</td>\n",
       "      <td>20000520</td>\n",
       "      <td>1372636854</td>\n",
       "      <td>A</td>\n",
       "      <td>False</td>\n",
       "      <td>[[-8.574678, 41.151951], [-8.574705, 41.151942...</td>\n",
       "    </tr>\n",
       "    <tr>\n",
       "      <th>4</th>\n",
       "      <td>1.372640e+18</td>\n",
       "      <td>C</td>\n",
       "      <td>NaN</td>\n",
       "      <td>NaN</td>\n",
       "      <td>20000337</td>\n",
       "      <td>1372637091</td>\n",
       "      <td>A</td>\n",
       "      <td>False</td>\n",
       "      <td>[[-8.645994, 41.18049], [-8.645949, 41.180517]...</td>\n",
       "    </tr>\n",
       "  </tbody>\n",
       "</table>\n",
       "</div>"
      ],
      "text/plain": [
       "        TRIP_ID CALL_TYPE  ORIGIN_CALL  ORIGIN_STAND   TAXI_ID   TIMESTAMP  \\\n",
       "0  1.372640e+18         C          NaN           NaN  20000589  1372636858   \n",
       "1  1.372640e+18         B          NaN           7.0  20000596  1372637303   \n",
       "2  1.372640e+18         C          NaN           NaN  20000320  1372636951   \n",
       "3  1.372640e+18         C          NaN           NaN  20000520  1372636854   \n",
       "4  1.372640e+18         C          NaN           NaN  20000337  1372637091   \n",
       "\n",
       "  DAY_TYPE  MISSING_DATA                                           POLYLINE  \n",
       "0        A         False  [[-8.618643, 41.141412], [-8.618499, 41.141376...  \n",
       "1        A         False  [[-8.639847, 41.159825999999995], [-8.64035099...  \n",
       "2        A         False  [[-8.612964, 41.140359000000004], [-8.613378, ...  \n",
       "3        A         False  [[-8.574678, 41.151951], [-8.574705, 41.151942...  \n",
       "4        A         False  [[-8.645994, 41.18049], [-8.645949, 41.180517]...  "
      ]
     },
     "execution_count": 10,
     "metadata": {},
     "output_type": "execute_result"
    }
   ],
   "source": [
    "df = pd.read_csv(\"PortoTaxiDataTraining_7734.csv\", engine='python', error_bad_lines=False)\n",
    "df.head()"
   ]
  },
  {
   "cell_type": "code",
   "execution_count": 11,
   "metadata": {},
   "outputs": [
    {
     "data": {
      "text/plain": [
       "TRIP_ID         float64\n",
       "CALL_TYPE        object\n",
       "ORIGIN_CALL     float64\n",
       "ORIGIN_STAND    float64\n",
       "TAXI_ID           int64\n",
       "TIMESTAMP         int64\n",
       "DAY_TYPE         object\n",
       "MISSING_DATA       bool\n",
       "POLYLINE         object\n",
       "dtype: object"
      ]
     },
     "execution_count": 11,
     "metadata": {},
     "output_type": "execute_result"
    }
   ],
   "source": [
    "df.dtypes"
   ]
  },
  {
   "cell_type": "code",
   "execution_count": 12,
   "metadata": {},
   "outputs": [
    {
     "data": {
      "text/plain": [
       "array(['C', 'B', 'A'], dtype=object)"
      ]
     },
     "execution_count": 12,
     "metadata": {},
     "output_type": "execute_result"
    }
   ],
   "source": [
    "df.CALL_TYPE.unique()"
   ]
  },
  {
   "cell_type": "code",
   "execution_count": 21,
   "metadata": {},
   "outputs": [
    {
     "data": {
      "text/plain": [
       "B    3982\n",
       "C    1898\n",
       "A    1853\n",
       "Name: CALL_TYPE, dtype: int64"
      ]
     },
     "execution_count": 21,
     "metadata": {},
     "output_type": "execute_result"
    }
   ],
   "source": [
    "df['CALL_TYPE'].value_counts()"
   ]
  },
  {
   "cell_type": "code",
   "execution_count": 22,
   "metadata": {},
   "outputs": [
    {
     "data": {
      "text/plain": [
       "7733"
      ]
     },
     "execution_count": 22,
     "metadata": {},
     "output_type": "execute_result"
    }
   ],
   "source": [
    "len(df)"
   ]
  },
  {
   "cell_type": "markdown",
   "metadata": {},
   "source": [
    "## Calculate the Proportions"
   ]
  },
  {
   "cell_type": "code",
   "execution_count": 40,
   "metadata": {},
   "outputs": [],
   "source": [
    "class prop_calculator():\n",
    "    def __init__(self, prop_num, sample_num):\n",
    "        self._prop = prop_num\n",
    "        self._samples = sample_num\n",
    "        \n",
    "    def sample_prop(self):\n",
    "        return round(self._prop / self._samples, 5)\n",
    "    \n",
    "    def sigma_calc(self, p_hat = None):\n",
    "        if p_hat == None:\n",
    "            p_hat = self.sample_prop()\n",
    "        return round(np.sqrt((p_hat * (1 - p_hat)) / self._samples), 5)\n",
    "    \n",
    "    def confidence_interval(self, p_hat = None, sigma_hat = None):\n",
    "        if p_hat == None:\n",
    "            p_hat = self.sample_prop()\n",
    "            sigma_hat = self.sigma_calc(p_hat)\n",
    "        return round(p_hat - 1.96 * sigma_hat, 5), round(p_hat + 1.96 * sigma_hat, 5)"
   ]
  },
  {
   "cell_type": "code",
   "execution_count": 41,
   "metadata": {},
   "outputs": [],
   "source": [
    "a_num = 1853\n",
    "b_num = 3982\n",
    "c_num = 1898\n",
    "total_sample_num = 7733"
   ]
  },
  {
   "cell_type": "code",
   "execution_count": 56,
   "metadata": {},
   "outputs": [
    {
     "name": "stdout",
     "output_type": "stream",
     "text": [
      "Central Based\n",
      "Confidence Interval: (0.23011, 0.24913)\n",
      "Stand Based\n",
      "Confidence Interval: (0.50381, 0.52607)\n",
      "Random Street\n",
      "Confidence Interval: (0.23586, 0.25502)\n"
     ]
    }
   ],
   "source": [
    "#A\n",
    "a_cal = prop_calculator(1853, 7733)\n",
    "a_ratio = a_cal.sample_prop()\n",
    "print(\"Central Based\")\n",
    "# print(\"Population Proportion:\", a_ratio)\n",
    "print(\"Confidence Interval:\", a_cal.confidence_interval())\n",
    "\n",
    "#B\n",
    "b_cal = prop_calculator(3982, 7733)\n",
    "b_ratio = b_cal.sample_prop()\n",
    "print(\"Stand Based\")\n",
    "# print(\"Population Proportion:\", b_ratio)\n",
    "print(\"Confidence Interval:\", b_cal.confidence_interval())\n",
    "\n",
    "#C\n",
    "c_cal = prop_calculator(1898, 7733)\n",
    "c_ratio = c_cal.sample_prop()\n",
    "print(\"Random Street\")\n",
    "# print(\"Population Proportion:\", c_ratio)\n",
    "print(\"Confidence Interval:\", c_cal.confidence_interval())"
   ]
  },
  {
   "cell_type": "code",
   "execution_count": 55,
   "metadata": {},
   "outputs": [
    {
     "data": {
      "image/png": "[encoded data removed]",
      "text/plain": [
       "<Figure size 432x288 with 1 Axes>"
      ]
     },
     "metadata": {},
     "output_type": "display_data"
    }
   ],
   "source": [
    "# draw pie charts\n",
    "import matplotlib.pyplot as plt\n",
    "ratio = [a_ratio, b_ratio, c_ratio]\n",
    "labels = [\"Central Based\", \"Stand Based\", \"Random Street\"]\n",
    "\n",
    "plt.pie(ratio, labels = labels, autopct='%.3f%%')\n",
    "plt.title(\"Porto Taxi Demand Population Proportion\")\n",
    "plt.show()"
   ]
  },
  {
   "cell_type": "code",
   "execution_count": null,
   "metadata": {},
   "outputs": [],
   "source": []
  }
 ],
 "metadata": {
  "kernelspec": {
   "display_name": "Python 3",
   "language": "python",
   "name": "python3"
  },
  "language_info": {
   "codemirror_mode": {
    "name": "ipython",
    "version": 3
   },
   "file_extension": ".py",
   "mimetype": "text/x-python",
   "name": "python",
   "nbconvert_exporter": "python",
   "pygments_lexer": "ipython3",
   "version": "3.8.5"
  }
 },
 "nbformat": 4,
 "nbformat_minor": 4
}
